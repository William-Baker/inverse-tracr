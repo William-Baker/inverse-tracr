{
 "cells": [
  {
   "cell_type": "code",
   "execution_count": 3,
   "metadata": {},
   "outputs": [
    {
     "name": "stdout",
     "output_type": "stream",
     "text": [
      "10 ['t0', 't1', 't2', 't3', 't4', 't5', 't6'] 5\n",
      "craft [0, 0, 0, 0, 0]\n",
      "JAX: ['compiler_bos', 1, 0, 0]\n"
     ]
    },
    {
     "data": {
      "image/png": "[encoded data removed]",
      "text/plain": [
       "<Figure size 500x500 with 1 Axes>"
      ]
     },
     "metadata": {},
     "output_type": "display_data"
    }
   ],
   "source": [
    "import sys\n",
    "sys.path.append('tracr/')\n",
    "from tracr.compiler.compiling import compile_rasp_to_model\n",
    "from utils.plot import *\n",
    "import jax\n",
    "from random import choice\n",
    "import os\n",
    "from tracr.rasp import rasp\n",
    "jax.config.update('jax_platform_name', 'cpu')\n",
    "os.environ['TF_CPP_MIN_LOG_LEVEL'] = '3' \n",
    "os.environ['CUDA_VISIBLE_DEVICES'] = ''\n",
    "os.environ[\"XLA_PYTHON_CLIENT_PREALLOCATE\"]=\"false\"\n",
    "\n",
    "COMPILER_BOS = \"compiler_bos\"\n",
    "COMPILER_PAD = \"compiler_pad\"\n",
    "\n",
    "#  =================== init program and compile transformer programs ===========================\n",
    "program, vocab, max_seq_len, assembled_model, compressed_assembled_model, actual_op, ops_range = [None]*7\n",
    "\n",
    "from data.dataset import choose_vocab_and_ops, build_program_of_length,program_craft_generator\n",
    "ops_range=(10, 15)\n",
    "numeric_range=(5, 8)\n",
    "vocab_size_range=(5, 8)\n",
    "numeric_inputs_possible=True\n",
    "max_seq_len = np.random.randint(4, 9)\n",
    "\n",
    "\n",
    "\n",
    "n_ops, vocab, TARGET_PROGRAM_LENGTH = choose_vocab_and_ops(ops_range=ops_range, vocab_size_range=vocab_size_range, numeric_inputs_possible=numeric_inputs_possible)\n",
    "print(n_ops, vocab, TARGET_PROGRAM_LENGTH)\n",
    "\n",
    "program, actual_ops = build_program_of_length(n_ops, vocab, numeric_range, TARGET_PROGRAM_LENGTH)\n",
    "\n",
    "assembled_model, craft_model, rasp_model = compile_rasp_to_model(\n",
    "    program, vocab, max_seq_len)\n",
    "\n",
    "\n",
    "\n",
    "ex_input = [choice(vocab) for i in range(max_seq_len-1)]\n",
    "\n",
    "\n",
    "\n",
    "from tracr.craft import bases\n",
    "indices_space = bases.VectorSpaceWithBasis.from_values(\n",
    "      rasp.indices.label, range(max_seq_len))\n",
    "input_space = bases.join_vector_spaces(indices_space, craft_model.residual_space)\n",
    "\n",
    "\n",
    "formatted_input = [COMPILER_BOS] + ex_input\n",
    "\n",
    "_ONE_DIRECTION = 'one'\n",
    "_BOS_DIRECTION = [basis.name for basis in craft_model.residual_space.basis if '_selector_width_attn_output' in basis.name][0]\n",
    "\n",
    "\n",
    "from utils.craft_embeddings import embed_input\n",
    "embedded_input = embed_input(formatted_input, input_space=input_space, _BOS_DIRECTION=_BOS_DIRECTION, _ONE_DIRECTION=_ONE_DIRECTION)\n",
    "\n",
    "\n",
    "output_seq = craft_model.apply(embedded_input)\n",
    "\n",
    "\n",
    "\n",
    "from tracr.compiler import nodes\n",
    "output_space = bases.VectorSpaceWithBasis(rasp_model.sink[nodes.OUTPUT_BASIS])\n",
    "\n",
    "outs = output_seq.project(output_space)\n",
    "\n",
    "\n",
    "\n",
    "output = assembled_model.apply(formatted_input)\n",
    "\n",
    "def decode_outs(output_seq, output_space):\n",
    "    outs = output_seq.project(output_space)\n",
    "    labels = outs.magnitudes.argmax(axis=1)\n",
    "    return [output_space.basis[i].value for i in labels]\n",
    "\n",
    "print(f\"craft {decode_outs(output_seq, output_space)}\")\n",
    "print(f\"JAX: {output.decoded}\")\n",
    "\n",
    "\n",
    "\n",
    "from utils.verbose_craft import plot_basis_dir\n",
    "fig, axs = plt.subplots(1, 1, figsize=(5, 5))\n",
    "plot_basis_dir(axs, outs, \"\")"
   ]
  },
  {
   "cell_type": "code",
   "execution_count": 4,
   "metadata": {},
   "outputs": [
    {
     "data": {
      "text/plain": [
       "[Operation(operator=<class 'tracr.rasp.rasp.SelectorWidth'>, inputs=[\"<class 'tracr.rasp.rasp.Selector'> 2\"], output=\"<class 'tracr.rasp.rasp.SOp'> 5\", lambda_name=None),\n",
       " Operation(operator=<class 'tracr.rasp.rasp.Select'>, inputs=['tokens', 'tokens', <Comparison.GT: '>'>], output=\"<class 'tracr.rasp.rasp.Selector'> 1\", lambda_name=None),\n",
       " Operation(operator=<class 'tracr.rasp.rasp.SelectorWidth'>, inputs=[\"<class 'tracr.rasp.rasp.Selector'> 1\"], output=\"<class 'tracr.rasp.rasp.SOp'> 3\", lambda_name=None),\n",
       " Operation(operator=<class 'tracr.rasp.rasp.Map'>, inputs=[functools.partial(<function <lambda> at 0x7f792ba15990>, 5), 'indices'], output=\"<class 'tracr.rasp.rasp.SOp'> 2\", lambda_name='LAM_AND'),\n",
       " Operation(operator=<class 'tracr.rasp.rasp.Select'>, inputs=[\"<class 'tracr.rasp.rasp.SOp'> 2\", \"<class 'tracr.rasp.rasp.SOp'> 3\", <Comparison.LT: '<'>], output=\"<class 'tracr.rasp.rasp.Selector'> 2\", lambda_name=None),\n",
       " Operation(operator=<class 'tracr.rasp.rasp.Aggregate'>, inputs=[\"<class 'tracr.rasp.rasp.Selector'> 2\", \"<class 'tracr.rasp.rasp.SOp'> 5\"], output=\"<class 'tracr.rasp.rasp.SOp'> 6\", lambda_name=None)]"
      ]
     },
     "execution_count": 4,
     "metadata": {},
     "output_type": "execute_result"
    }
   ],
   "source": [
    "actual_ops"
   ]
  }
 ],
 "metadata": {
  "language_info": {
   "codemirror_mode": {
    "name": "ipython",
    "version": 3
   },
   "file_extension": ".py",
   "mimetype": "text/x-python",
   "name": "python",
   "nbconvert_exporter": "python",
   "pygments_lexer": "ipython3",
   "version": 3
  },
  "orig_nbformat": 4
 },
 "nbformat": 4,
 "nbformat_minor": 2
}
