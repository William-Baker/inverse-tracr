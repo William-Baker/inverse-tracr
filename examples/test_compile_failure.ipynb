{
 "cells": [
  {
   "cell_type": "code",
   "execution_count": 1,
   "source": [
    "from tracr.compiler.compiling import compile_rasp_to_model\n",
    "from tracr.rasp import rasp\n",
    "\n",
    "\n",
    "\n",
    "# SelectorWidth'>, inputs=[\"<class 'tracr.rasp.rasp.Selector'> 2\"], output=\"<class 'tracr.rasp.rasp.SOp'> 3\", lambda_name=None),\n",
    "# SequenceMap'>, inputs=[<function <lambda> at 0x7f1e2b026290>, \"<class 'tracr.rasp.rasp.SOp'> 3\", \"<class 'tracr.rasp.rasp.SOp'> 4\"], output=\"<class 'tracr.rasp.rasp.SOp'> 6\", lambda_name='LAM_SUB'),\n",
    "# Select'>, inputs=['indices', 'indices', <Comparison.EQ: '=='>], output=\"<class 'tracr.rasp.rasp.Selector'> 1\", lambda_name=None),\n",
    "# Aggregate'>, inputs=[\"<class 'tracr.rasp.rasp.Selector'> 1\", 'indices'], output=\"<class 'tracr.rasp.rasp.SOp'> 2\", lambda_name=None),\n",
    "# Select'>, inputs=['tokens', 'tokens', <Comparison.LT: '<'>], output=\"<class 'tracr.rasp.rasp.Selector'> 2\", lambda_name=None),\n",
    "# SelectorWidth'>, inputs=[\"<class 'tracr.rasp.rasp.Selector'> 2\"], output=\"<class 'tracr.rasp.rasp.SOp'> 4\", lambda_name=None),\n",
    "# Select'>, inputs=[\"<class 'tracr.rasp.rasp.SOp'> 4\", \"<class 'tracr.rasp.rasp.SOp'> 2\", <Comparison.NEQ: '!='>], output=\"<class 'tracr.rasp.rasp.Selector'> 3\", lambda_name=None),\n",
    "# Aggregate'>, inputs=[\"<class 'tracr.rasp.rasp.Selector'> 3\", \"<class 'tracr.rasp.rasp.SOp'> 6\"], output=\"<class 'tracr.rasp.rasp.SOp'> 7\", lambda_name=None)]\n",
    "\n",
    "# vocab = ['t0', 't1', 't2', 't3', 't4', 't5', 't6']\n",
    "# max_seq_len = 8\n",
    "\n",
    "se1 = rasp.Select(rasp.indices, rasp.indices, lambda x, y: x == y)\n",
    "so2 = rasp.Aggregate(se1, rasp.indices)\n",
    "se2 = rasp.Select(rasp.tokens, rasp.tokens, lambda x, y: x < y)\n",
    "so3 = rasp.SelectorWidth(se2)\n",
    "se3 = rasp.Select(so3, so2, lambda x, y: x!=y)\n",
    "so6 = rasp.SequenceMap(lambda x,y: x-y, so3, so3)\n",
    "so7 = rasp.Aggregate(se3, so6)\n",
    "\n",
    "vocab = ['t0', 't1', 't2', 't3', 't4', 't5', 't6']\n",
    "max_seq_len = 8\n",
    "program = so7\n",
    "\n",
    "assembled_model, craft_model, rasp_model = compile_rasp_to_model(\n",
    "    program, vocab, max_seq_len)"
   ],
   "outputs": [
    {
     "output_type": "error",
     "ename": "ValueError",
     "evalue": "could not broadcast input array from shape (70,17) into shape (70,10)",
     "traceback": [
      "\u001b[0;31m---------------------------------------------------------------------------\u001b[0m",
      "\u001b[0;31mValueError\u001b[0m                                Traceback (most recent call last)",
      "\u001b[1;32m/home/baker/inverse-tracr/test_compile_example copy.py\u001b[0m in \u001b[0;36mline 31\n\u001b[1;32m     <a href='file:///home/baker/inverse-tracr/test_compile_example%20copy.py?line=27'>28</a>\u001b[0m max_seq_len \u001b[39m=\u001b[39m \u001b[39m8\u001b[39m\n\u001b[1;32m     <a href='file:///home/baker/inverse-tracr/test_compile_example%20copy.py?line=28'>29</a>\u001b[0m program \u001b[39m=\u001b[39m so7\n\u001b[0;32m---> <a href='file:///home/baker/inverse-tracr/test_compile_example%20copy.py?line=30'>31</a>\u001b[0m assembled_model, craft_model, rasp_model \u001b[39m=\u001b[39m compile_rasp_to_model(\n\u001b[1;32m     <a href='file:///home/baker/inverse-tracr/test_compile_example%20copy.py?line=31'>32</a>\u001b[0m     program, vocab, max_seq_len)\n",
      "File \u001b[0;32m~/inverse-tracr/tracr/tracr/compiler/compiling.py:86\u001b[0m, in \u001b[0;36mcompile_rasp_to_model\u001b[0;34m(program, vocab, max_seq_len, causal, compiler_bos, compiler_pad, mlp_exactness)\u001b[0m\n\u001b[1;32m     <a href='file:///home/baker/inverse-tracr/tracr/tracr/compiler/compiling.py?line=77'>78</a>\u001b[0m expr_to_craft_graph\u001b[39m.\u001b[39madd_craft_components_to_rasp_graph(\n\u001b[1;32m     <a href='file:///home/baker/inverse-tracr/tracr/tracr/compiler/compiling.py?line=78'>79</a>\u001b[0m     graph,\n\u001b[1;32m     <a href='file:///home/baker/inverse-tracr/tracr/tracr/compiler/compiling.py?line=79'>80</a>\u001b[0m     bos_dir\u001b[39m=\u001b[39mbases\u001b[39m.\u001b[39mBasisDirection(rasp\u001b[39m.\u001b[39mtokens\u001b[39m.\u001b[39mlabel, compiler_bos),\n\u001b[1;32m     <a href='file:///home/baker/inverse-tracr/tracr/tracr/compiler/compiling.py?line=80'>81</a>\u001b[0m     mlp_exactness\u001b[39m=\u001b[39mmlp_exactness,\n\u001b[1;32m     <a href='file:///home/baker/inverse-tracr/tracr/tracr/compiler/compiling.py?line=81'>82</a>\u001b[0m )\n\u001b[1;32m     <a href='file:///home/baker/inverse-tracr/tracr/tracr/compiler/compiling.py?line=83'>84</a>\u001b[0m craft_model \u001b[39m=\u001b[39m craft_graph_to_model\u001b[39m.\u001b[39mcraft_graph_to_model(graph, sources)\n\u001b[0;32m---> <a href='file:///home/baker/inverse-tracr/tracr/tracr/compiler/compiling.py?line=85'>86</a>\u001b[0m \u001b[39mreturn\u001b[39;00m craft_model_to_transformer\u001b[39m.\u001b[39;49mcraft_model_to_transformer(\n\u001b[1;32m     <a href='file:///home/baker/inverse-tracr/tracr/tracr/compiler/compiling.py?line=86'>87</a>\u001b[0m     craft_model\u001b[39m=\u001b[39;49mcraft_model,\n\u001b[1;32m     <a href='file:///home/baker/inverse-tracr/tracr/tracr/compiler/compiling.py?line=87'>88</a>\u001b[0m     graph\u001b[39m=\u001b[39;49mgraph,\n\u001b[1;32m     <a href='file:///home/baker/inverse-tracr/tracr/tracr/compiler/compiling.py?line=88'>89</a>\u001b[0m     sink\u001b[39m=\u001b[39;49msink,\n\u001b[1;32m     <a href='file:///home/baker/inverse-tracr/tracr/tracr/compiler/compiling.py?line=89'>90</a>\u001b[0m     max_seq_len\u001b[39m=\u001b[39;49mmax_seq_len,\n\u001b[1;32m     <a href='file:///home/baker/inverse-tracr/tracr/tracr/compiler/compiling.py?line=90'>91</a>\u001b[0m     causal\u001b[39m=\u001b[39;49mcausal,\n\u001b[1;32m     <a href='file:///home/baker/inverse-tracr/tracr/tracr/compiler/compiling.py?line=91'>92</a>\u001b[0m     compiler_bos\u001b[39m=\u001b[39;49mcompiler_bos,\n\u001b[1;32m     <a href='file:///home/baker/inverse-tracr/tracr/tracr/compiler/compiling.py?line=92'>93</a>\u001b[0m     compiler_pad\u001b[39m=\u001b[39;49mcompiler_pad,\n\u001b[1;32m     <a href='file:///home/baker/inverse-tracr/tracr/tracr/compiler/compiling.py?line=93'>94</a>\u001b[0m ), craft_model, extracted\n",
      "File \u001b[0;32m~/inverse-tracr/tracr/tracr/compiler/craft_model_to_transformer.py:50\u001b[0m, in \u001b[0;36mcraft_model_to_transformer\u001b[0;34m(craft_model, graph, sink, max_seq_len, compiler_bos, compiler_pad, causal)\u001b[0m\n\u001b[1;32m     <a href='file:///home/baker/inverse-tracr/tracr/tracr/compiler/craft_model_to_transformer.py?line=46'>47</a>\u001b[0m categorical_output \u001b[39m=\u001b[39m rasp\u001b[39m.\u001b[39mis_categorical(sink[nodes\u001b[39m.\u001b[39mEXPR])\n\u001b[1;32m     <a href='file:///home/baker/inverse-tracr/tracr/tracr/compiler/craft_model_to_transformer.py?line=47'>48</a>\u001b[0m output_space \u001b[39m=\u001b[39m bases\u001b[39m.\u001b[39mVectorSpaceWithBasis(sink[nodes\u001b[39m.\u001b[39mOUTPUT_BASIS])\n\u001b[0;32m---> <a href='file:///home/baker/inverse-tracr/tracr/tracr/compiler/craft_model_to_transformer.py?line=49'>50</a>\u001b[0m assembled_model \u001b[39m=\u001b[39m assemble\u001b[39m.\u001b[39;49massemble_craft_model(\n\u001b[1;32m     <a href='file:///home/baker/inverse-tracr/tracr/tracr/compiler/craft_model_to_transformer.py?line=50'>51</a>\u001b[0m     craft_model\u001b[39m=\u001b[39;49mcraft_model,\n\u001b[1;32m     <a href='file:///home/baker/inverse-tracr/tracr/tracr/compiler/craft_model_to_transformer.py?line=51'>52</a>\u001b[0m     tokens_space\u001b[39m=\u001b[39;49mtokens_space,\n\u001b[1;32m     <a href='file:///home/baker/inverse-tracr/tracr/tracr/compiler/craft_model_to_transformer.py?line=52'>53</a>\u001b[0m     indices_space\u001b[39m=\u001b[39;49mindices_space,\n\u001b[1;32m     <a href='file:///home/baker/inverse-tracr/tracr/tracr/compiler/craft_model_to_transformer.py?line=53'>54</a>\u001b[0m     output_space\u001b[39m=\u001b[39;49moutput_space,\n\u001b[1;32m     <a href='file:///home/baker/inverse-tracr/tracr/tracr/compiler/craft_model_to_transformer.py?line=54'>55</a>\u001b[0m     categorical_output\u001b[39m=\u001b[39;49mcategorical_output,\n\u001b[1;32m     <a href='file:///home/baker/inverse-tracr/tracr/tracr/compiler/craft_model_to_transformer.py?line=55'>56</a>\u001b[0m     causal\u001b[39m=\u001b[39;49mcausal,\n\u001b[1;32m     <a href='file:///home/baker/inverse-tracr/tracr/tracr/compiler/craft_model_to_transformer.py?line=56'>57</a>\u001b[0m )\n\u001b[1;32m     <a href='file:///home/baker/inverse-tracr/tracr/tracr/compiler/craft_model_to_transformer.py?line=58'>59</a>\u001b[0m assembled_model\u001b[39m.\u001b[39minput_encoder \u001b[39m=\u001b[39m encoder\u001b[39m.\u001b[39mCategoricalEncoder(\n\u001b[1;32m     <a href='file:///home/baker/inverse-tracr/tracr/tracr/compiler/craft_model_to_transformer.py?line=59'>60</a>\u001b[0m     basis\u001b[39m=\u001b[39mtokens_space\u001b[39m.\u001b[39mbasis,\n\u001b[1;32m     <a href='file:///home/baker/inverse-tracr/tracr/tracr/compiler/craft_model_to_transformer.py?line=60'>61</a>\u001b[0m     enforce_bos\u001b[39m=\u001b[39mcompiler_bos \u001b[39mis\u001b[39;00m \u001b[39mnot\u001b[39;00m \u001b[39mNone\u001b[39;00m,\n\u001b[0;32m   (...)\u001b[0m\n\u001b[1;32m     <a href='file:///home/baker/inverse-tracr/tracr/tracr/compiler/craft_model_to_transformer.py?line=63'>64</a>\u001b[0m     max_seq_len\u001b[39m=\u001b[39mmax_seq_len \u001b[39m+\u001b[39m \u001b[39m1\u001b[39m \u001b[39mif\u001b[39;00m compiler_bos \u001b[39mis\u001b[39;00m \u001b[39mnot\u001b[39;00m \u001b[39mNone\u001b[39;00m \u001b[39melse\u001b[39;00m max_seq_len,\n\u001b[1;32m     <a href='file:///home/baker/inverse-tracr/tracr/tracr/compiler/craft_model_to_transformer.py?line=64'>65</a>\u001b[0m )\n\u001b[1;32m     <a href='file:///home/baker/inverse-tracr/tracr/tracr/compiler/craft_model_to_transformer.py?line=66'>67</a>\u001b[0m \u001b[39mif\u001b[39;00m categorical_output:\n",
      "File \u001b[0;32m~/inverse-tracr/tracr/tracr/compiler/assemble.py:307\u001b[0m, in \u001b[0;36massemble_craft_model\u001b[0;34m(craft_model, tokens_space, indices_space, output_space, categorical_output, causal)\u001b[0m\n\u001b[1;32m    <a href='file:///home/baker/inverse-tracr/tracr/tracr/compiler/assemble.py?line=304'>305</a>\u001b[0m value_mat \u001b[39m=\u001b[39m np\u001b[39m.\u001b[39mzeros((residual_space\u001b[39m.\u001b[39mnum_dims, model_config\u001b[39m.\u001b[39mkey_size))\n\u001b[1;32m    <a href='file:///home/baker/inverse-tracr/tracr/tracr/compiler/assemble.py?line=305'>306</a>\u001b[0m residual_to_ov_input \u001b[39m=\u001b[39m project(head\u001b[39m.\u001b[39mw_ov\u001b[39m.\u001b[39minput_space)\n\u001b[0;32m--> <a href='file:///home/baker/inverse-tracr/tracr/tracr/compiler/assemble.py?line=306'>307</a>\u001b[0m value_mat[:, :value_size] \u001b[39m=\u001b[39m residual_to_ov_input \u001b[39m@\u001b[39m head\u001b[39m.\u001b[39mw_ov\u001b[39m.\u001b[39mmatrix\n\u001b[1;32m    <a href='file:///home/baker/inverse-tracr/tracr/tracr/compiler/assemble.py?line=307'>308</a>\u001b[0m value\u001b[39m.\u001b[39mappend(value_mat)\n\u001b[1;32m    <a href='file:///home/baker/inverse-tracr/tracr/tracr/compiler/assemble.py?line=309'>310</a>\u001b[0m linear_mat \u001b[39m=\u001b[39m np\u001b[39m.\u001b[39mzeros((model_config\u001b[39m.\u001b[39mkey_size, residual_space\u001b[39m.\u001b[39mnum_dims))\n",
      "\u001b[0;31mValueError\u001b[0m: could not broadcast input array from shape (70,17) into shape (70,10)"
     ]
    }
   ],
   "metadata": {}
  }
 ],
 "nbformat": 4,
 "nbformat_minor": 2,
 "metadata": {
  "language_info": {
   "codemirror_mode": {
    "name": "ipython",
    "version": 3
   },
   "file_extension": ".py",
   "mimetype": "text/x-python",
   "name": "python",
   "nbconvert_exporter": "python",
   "pygments_lexer": "ipython3",
   "version": 3
  },
  "orig_nbformat": 4
 }
}